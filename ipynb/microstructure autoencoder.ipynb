{
 "cells": [
  {
   "cell_type": "code",
   "execution_count": 1,
   "metadata": {},
   "outputs": [],
   "source": [
    "import os\n",
    "import cv2\n",
    "import numpy as np\n",
    "import pandas as pd\n",
    "import matplotlib.pyplot as plt"
   ]
  },
  {
   "cell_type": "code",
   "execution_count": 2,
   "metadata": {},
   "outputs": [],
   "source": [
    "#loading microstructures and masks\n",
    "path = 'C:\\\\Users\\\\kevin\\\\Desktop\\\\CMS\\\\Steel Image\\\\data\\\\'\n",
    "inputs = []\n",
    "masks = []\n",
    "for image in os.listdir(path+'images'):\n",
    "    img = cv2.imread(path+'images\\\\'+image, cv2.IMREAD_GRAYSCALE)\n",
    "    img = cv2.resize(img, (64,64))\n",
    "    inputs.append(img)\n",
    "    \n",
    "inputs = np.array(inputs)\n",
    "\n",
    "for image in os.listdir(path+'masks'):\n",
    "    img = cv2.imread(path+'masks\\\\'+image, cv2.IMREAD_GRAYSCALE)\n",
    "    img = cv2.resize(img, (64,64))\n",
    "    masks.append(img)\n",
    "    \n",
    "masks = np.array(masks)"
   ]
  },
  {
   "cell_type": "code",
   "execution_count": 3,
   "metadata": {},
   "outputs": [],
   "source": [
    "#normalizing data\n",
    "inputs = inputs/255\n",
    "masks = masks/255"
   ]
  },
  {
   "cell_type": "code",
   "execution_count": 4,
   "metadata": {},
   "outputs": [
    {
     "data": {
      "text/plain": [
       "<matplotlib.image.AxesImage at 0x133f2fd3d48>"
      ]
     },
     "execution_count": 4,
     "metadata": {},
     "output_type": "execute_result"
    },
    {
     "data": {
      "image/png": "[encoded data removed]",
      "text/plain": [
       "<Figure size 432x288 with 1 Axes>"
      ]
     },
     "metadata": {
      "needs_background": "dark"
     },
     "output_type": "display_data"
    }
   ],
   "source": [
    "plt.imshow(inputs[0], cmap = 'gray')"
   ]
  },
  {
   "cell_type": "code",
   "execution_count": 5,
   "metadata": {},
   "outputs": [
    {
     "data": {
      "text/plain": [
       "<matplotlib.image.AxesImage at 0x133f3096808>"
      ]
     },
     "execution_count": 5,
     "metadata": {},
     "output_type": "execute_result"
    },
    {
     "data": {
      "image/png": "[encoded data removed]",
      "text/plain": [
       "<Figure size 432x288 with 1 Axes>"
      ]
     },
     "metadata": {
      "needs_background": "dark"
     },
     "output_type": "display_data"
    }
   ],
   "source": [
    "plt.imshow(masks[0], cmap = 'gray')"
   ]
  },
  {
   "cell_type": "code",
   "execution_count": 6,
   "metadata": {},
   "outputs": [],
   "source": [
    "from tensorflow.keras.models import Sequential\n",
    "from tensorflow.keras.layers import Dense, Flatten, Reshape\n",
    "from tensorflow.keras.optimizers import SGD"
   ]
  },
  {
   "cell_type": "code",
   "execution_count": 7,
   "metadata": {},
   "outputs": [
    {
     "data": {
      "text/plain": [
       "4096"
      ]
     },
     "execution_count": 7,
     "metadata": {},
     "output_type": "execute_result"
    }
   ],
   "source": [
    "64*64"
   ]
  },
  {
   "cell_type": "code",
   "execution_count": 8,
   "metadata": {},
   "outputs": [],
   "source": [
    "encoder = Sequential()\n",
    "encoder.add(Flatten(input_shape=[64,64]))\n",
    "encoder.add(Dense(3750, activation='sigmoid'))\n",
    "encoder.add(Dense(3500, activation='sigmoid'))\n",
    "encoder.add(Dense(3250, activation='sigmoid'))\n",
    "encoder.add(Dense(3000, activation='sigmoid'))\n",
    "encoder.add(Dense(2750, activation='sigmoid'))\n",
    "encoder.add(Dense(2500, activation='sigmoid'))\n",
    "encoder.add(Dense(2250, activation='sigmoid'))\n",
    "encoder.add(Dense(2000, activation='sigmoid'))\n",
    "encoder.add(Dense(1750, activation='sigmoid'))\n",
    "encoder.add(Dense(1500, activation='sigmoid'))\n",
    "encoder.add(Dense(1250, activation='sigmoid'))\n",
    "encoder.add(Dense(1000, activation='sigmoid'))\n",
    "encoder.add(Dense(750, activation='sigmoid'))\n",
    "encoder.add(Dense(500, activation='sigmoid'))"
   ]
  },
  {
   "cell_type": "code",
   "execution_count": 9,
   "metadata": {},
   "outputs": [],
   "source": [
    "decoder = Sequential()\n",
    "decoder.add(Dense(750, activation='sigmoid', input_shape=[500]))\n",
    "decoder.add(Dense(1000, activation='sigmoid'))\n",
    "decoder.add(Dense(1250, activation='sigmoid'))\n",
    "decoder.add(Dense(1500, activation='sigmoid'))\n",
    "decoder.add(Dense(1750, activation='sigmoid'))\n",
    "decoder.add(Dense(2000, activation='sigmoid'))\n",
    "decoder.add(Dense(2250, activation='sigmoid'))\n",
    "decoder.add(Dense(2500, activation='sigmoid'))\n",
    "decoder.add(Dense(2750, activation='sigmoid'))\n",
    "decoder.add(Dense(3000, activation='sigmoid'))\n",
    "decoder.add(Dense(3250, activation='sigmoid'))\n",
    "decoder.add(Dense(3500, activation='sigmoid'))\n",
    "decoder.add(Dense(3750, activation='sigmoid'))\n",
    "decoder.add(Dense(4096, activation='sigmoid'))\n",
    "decoder.add(Reshape([64,64]))"
   ]
  },
  {
   "cell_type": "code",
   "execution_count": 10,
   "metadata": {},
   "outputs": [],
   "source": [
    "autoencoder = Sequential([encoder, decoder])"
   ]
  },
  {
   "cell_type": "code",
   "execution_count": 11,
   "metadata": {},
   "outputs": [],
   "source": [
    "autoencoder.compile(loss='binary_crossentropy', \n",
    "                    optimizer='adam',\n",
    "                    metrics = ['accuracy'])"
   ]
  },
  {
   "cell_type": "code",
   "execution_count": 12,
   "metadata": {},
   "outputs": [
    {
     "name": "stdout",
     "output_type": "stream",
     "text": [
      "Train on 12 samples\n",
      "Epoch 1/50\n",
      "12/12 [==============================] - 4s 321ms/sample - loss: 0.7209 - accuracy: 0.4831\n",
      "Epoch 2/50\n",
      "12/12 [==============================] - 1s 112ms/sample - loss: 0.4899 - accuracy: 0.7651\n",
      "Epoch 3/50\n",
      "12/12 [==============================] - 1s 114ms/sample - loss: 0.4774 - accuracy: 0.7688\n",
      "Epoch 4/50\n",
      "12/12 [==============================] - 1s 118ms/sample - loss: 0.4677 - accuracy: 0.7669\n",
      "Epoch 5/50\n",
      "12/12 [==============================] - 1s 120ms/sample - loss: 0.4639 - accuracy: 0.7642\n",
      "Epoch 6/50\n",
      "12/12 [==============================] - 1s 115ms/sample - loss: 0.4633 - accuracy: 0.7658\n",
      "Epoch 7/50\n",
      "12/12 [==============================] - 1s 116ms/sample - loss: 0.4606 - accuracy: 0.7682\n",
      "Epoch 8/50\n",
      "12/12 [==============================] - 1s 123ms/sample - loss: 0.4572 - accuracy: 0.7693\n",
      "Epoch 9/50\n",
      "12/12 [==============================] - 1s 121ms/sample - loss: 0.4564 - accuracy: 0.7701\n",
      "Epoch 10/50\n",
      "12/12 [==============================] - 2s 128ms/sample - loss: 0.4568 - accuracy: 0.7706\n",
      "Epoch 11/50\n",
      "12/12 [==============================] - 1s 116ms/sample - loss: 0.4561 - accuracy: 0.7705\n",
      "Epoch 12/50\n",
      "12/12 [==============================] - 1s 116ms/sample - loss: 0.4551 - accuracy: 0.7702\n",
      "Epoch 13/50\n",
      "12/12 [==============================] - 1s 115ms/sample - loss: 0.4549 - accuracy: 0.7699\n",
      "Epoch 14/50\n",
      "12/12 [==============================] - 1s 114ms/sample - loss: 0.4548 - accuracy: 0.7700\n",
      "Epoch 15/50\n",
      "12/12 [==============================] - 1s 120ms/sample - loss: 0.4542 - accuracy: 0.7700\n",
      "Epoch 16/50\n",
      "12/12 [==============================] - 1s 123ms/sample - loss: 0.4535 - accuracy: 0.7702\n",
      "Epoch 17/50\n",
      "12/12 [==============================] - 1s 121ms/sample - loss: 0.4533 - accuracy: 0.7704\n",
      "Epoch 18/50\n",
      "12/12 [==============================] - 1s 121ms/sample - loss: 0.4533 - accuracy: 0.7705\n",
      "Epoch 19/50\n",
      "12/12 [==============================] - 2s 125ms/sample - loss: 0.4531 - accuracy: 0.7705\n",
      "Epoch 20/50\n",
      "12/12 [==============================] - 2s 129ms/sample - loss: 0.4528 - accuracy: 0.7707\n",
      "Epoch 21/50\n",
      "12/12 [==============================] - 1s 115ms/sample - loss: 0.4528 - accuracy: 0.7705\n",
      "Epoch 22/50\n",
      "12/12 [==============================] - 1s 124ms/sample - loss: 0.4529 - accuracy: 0.7705\n",
      "Epoch 23/50\n",
      "12/12 [==============================] - 1s 120ms/sample - loss: 0.4527 - accuracy: 0.7706\n",
      "Epoch 24/50\n",
      "12/12 [==============================] - 1s 113ms/sample - loss: 0.4525 - accuracy: 0.7706\n",
      "Epoch 25/50\n",
      "12/12 [==============================] - 1s 116ms/sample - loss: 0.4524 - accuracy: 0.7706\n",
      "Epoch 26/50\n",
      "12/12 [==============================] - 1s 122ms/sample - loss: 0.4523 - accuracy: 0.7707\n",
      "Epoch 27/50\n",
      "12/12 [==============================] - 1s 116ms/sample - loss: 0.4522 - accuracy: 0.7707\n",
      "Epoch 28/50\n",
      "12/12 [==============================] - 1s 113ms/sample - loss: 0.4521 - accuracy: 0.7706\n",
      "Epoch 29/50\n",
      "12/12 [==============================] - 2s 128ms/sample - loss: 0.4520 - accuracy: 0.7707\n",
      "Epoch 30/50\n",
      "12/12 [==============================] - 1s 118ms/sample - loss: 0.4521 - accuracy: 0.7705\n",
      "Epoch 31/50\n",
      "12/12 [==============================] - 1s 115ms/sample - loss: 0.4520 - accuracy: 0.7706\n",
      "Epoch 32/50\n",
      "12/12 [==============================] - 1s 117ms/sample - loss: 0.4519 - accuracy: 0.7706\n",
      "Epoch 33/50\n",
      "12/12 [==============================] - 1s 120ms/sample - loss: 0.4519 - accuracy: 0.7707\n",
      "Epoch 34/50\n",
      "12/12 [==============================] - 1s 124ms/sample - loss: 0.4519 - accuracy: 0.7706\n",
      "Epoch 35/50\n",
      "12/12 [==============================] - 2s 130ms/sample - loss: 0.4518 - accuracy: 0.7707\n",
      "Epoch 36/50\n",
      "12/12 [==============================] - 2s 137ms/sample - loss: 0.4517 - accuracy: 0.7706\n",
      "Epoch 37/50\n",
      "12/12 [==============================] - 1s 120ms/sample - loss: 0.4517 - accuracy: 0.7707\n",
      "Epoch 38/50\n",
      "12/12 [==============================] - 1s 116ms/sample - loss: 0.4517 - accuracy: 0.7707\n",
      "Epoch 39/50\n",
      "12/12 [==============================] - 1s 116ms/sample - loss: 0.4517 - accuracy: 0.7707\n",
      "Epoch 40/50\n",
      "12/12 [==============================] - 1s 120ms/sample - loss: 0.4517 - accuracy: 0.7707\n",
      "Epoch 41/50\n",
      "12/12 [==============================] - 1s 124ms/sample - loss: 0.4517 - accuracy: 0.7707\n",
      "Epoch 42/50\n",
      "12/12 [==============================] - 1s 115ms/sample - loss: 0.4517 - accuracy: 0.7707\n",
      "Epoch 43/50\n",
      "12/12 [==============================] - 1s 112ms/sample - loss: 0.4516 - accuracy: 0.7708\n",
      "Epoch 44/50\n",
      "12/12 [==============================] - 1s 121ms/sample - loss: 0.4516 - accuracy: 0.7708\n",
      "Epoch 45/50\n",
      "12/12 [==============================] - 1s 124ms/sample - loss: 0.4516 - accuracy: 0.7707\n",
      "Epoch 46/50\n",
      "12/12 [==============================] - 2s 127ms/sample - loss: 0.4516 - accuracy: 0.7707\n",
      "Epoch 47/50\n",
      "12/12 [==============================] - 1s 119ms/sample - loss: 0.4516 - accuracy: 0.7707\n",
      "Epoch 48/50\n",
      "12/12 [==============================] - 1s 122ms/sample - loss: 0.4516 - accuracy: 0.7707\n",
      "Epoch 49/50\n",
      "12/12 [==============================] - 1s 114ms/sample - loss: 0.4516 - accuracy: 0.7706\n",
      "Epoch 50/50\n",
      "12/12 [==============================] - 1s 120ms/sample - loss: 0.4516 - accuracy: 0.7705\n"
     ]
    },
    {
     "data": {
      "text/plain": [
       "<tensorflow.python.keras.callbacks.History at 0x1338e777188>"
      ]
     },
     "execution_count": 12,
     "metadata": {},
     "output_type": "execute_result"
    }
   ],
   "source": [
    "autoencoder.fit(inputs, masks, epochs=50)"
   ]
  },
  {
   "cell_type": "code",
   "execution_count": 16,
   "metadata": {},
   "outputs": [],
   "source": [
    "passed_images = inputs[:11]"
   ]
  },
  {
   "cell_type": "code",
   "execution_count": 17,
   "metadata": {},
   "outputs": [],
   "source": [
    "constructed_masks = autoencoder.predict(passed_images)"
   ]
  },
  {
   "cell_type": "code",
   "execution_count": 18,
   "metadata": {},
   "outputs": [
    {
     "name": "stdout",
     "output_type": "stream",
     "text": [
      "ORIGINAL IMAGE\n"
     ]
    },
    {
     "data": {
      "image/png": "[encoded data removed]",
      "text/plain": [
       "<Figure size 432x288 with 1 Axes>"
      ]
     },
     "metadata": {
      "needs_background": "dark"
     },
     "output_type": "display_data"
    },
    {
     "name": "stdout",
     "output_type": "stream",
     "text": [
      "CONSTRUCTED MASK\n"
     ]
    },
    {
     "data": {
      "text/plain": [
       "<matplotlib.image.AxesImage at 0x1338487d488>"
      ]
     },
     "execution_count": 18,
     "metadata": {},
     "output_type": "execute_result"
    },
    {
     "data": {
      "image/png": "[encoded data removed]",
      "text/plain": [
       "<Figure size 432x288 with 1 Axes>"
      ]
     },
     "metadata": {
      "needs_background": "dark"
     },
     "output_type": "display_data"
    }
   ],
   "source": [
    "n=10\n",
    "print('ORIGINAL IMAGE')\n",
    "plt.imshow(inputs[n], cmap='gray')\n",
    "plt.show()\n",
    "\n",
    "print('CONSTRUCTED MASK')\n",
    "plt.imshow(constructed_masks[n], cmap='gray')"
   ]
  },
  {
   "cell_type": "code",
   "execution_count": null,
   "metadata": {},
   "outputs": [],
   "source": []
  }
 ],
 "metadata": {
  "kernelspec": {
   "display_name": "Python 3",
   "language": "python",
   "name": "python3"
  },
  "language_info": {
   "codemirror_mode": {
    "name": "ipython",
    "version": 3
   },
   "file_extension": ".py",
   "mimetype": "text/x-python",
   "name": "python",
   "nbconvert_exporter": "python",
   "pygments_lexer": "ipython3",
   "version": "3.7.6"
  },
  "toc": {
   "base_numbering": 1,
   "nav_menu": {},
   "number_sections": true,
   "sideBar": true,
   "skip_h1_title": false,
   "title_cell": "Table of Contents",
   "title_sidebar": "Contents",
   "toc_cell": false,
   "toc_position": {},
   "toc_section_display": true,
   "toc_window_display": false
  },
  "varInspector": {
   "cols": {
    "lenName": 16,
    "lenType": 16,
    "lenVar": 40
   },
   "kernels_config": {
    "python": {
     "delete_cmd_postfix": "",
     "delete_cmd_prefix": "del ",
     "library": "var_list.py",
     "varRefreshCmd": "print(var_dic_list())"
    },
    "r": {
     "delete_cmd_postfix": ") ",
     "delete_cmd_prefix": "rm(",
     "library": "var_list.r",
     "varRefreshCmd": "cat(var_dic_list()) "
    }
   },
   "types_to_exclude": [
    "module",
    "function",
    "builtin_function_or_method",
    "instance",
    "_Feature"
   ],
   "window_display": false
  }
 },
 "nbformat": 4,
 "nbformat_minor": 2
}
